{
  "nbformat": 4,
  "nbformat_minor": 0,
  "metadata": {
    "colab": {
      "provenance": [],
      "authorship_tag": "ABX9TyOzHdPHvKJocBc69kIM6gFg",
      "include_colab_link": true
    },
    "kernelspec": {
      "name": "python3",
      "display_name": "Python 3"
    },
    "language_info": {
      "name": "python"
    }
  },
  "cells": [
    {
      "cell_type": "markdown",
      "metadata": {
        "id": "view-in-github",
        "colab_type": "text"
      },
      "source": [
        "<a href=\"https://colab.research.google.com/github/gathosan012/AI_Exercise/blob/main/Lab1.ipynb\" target=\"_parent\"><img src=\"https://colab.research.google.com/assets/colab-badge.svg\" alt=\"Open In Colab\"/></a>"
      ]
    },
    {
      "cell_type": "code",
      "source": [
        "!pip install --force-reinstall learntools"
      ],
      "metadata": {
        "id": "ty41jWumzpwY",
        "outputId": "aa766d9d-a951-488a-9feb-b5e5f4ece368",
        "colab": {
          "base_uri": "https://localhost:8080/",
          "height": 516
        }
      },
      "execution_count": null,
      "outputs": [
        {
          "output_type": "stream",
          "name": "stdout",
          "text": [
            "Collecting learntools\n",
            "  Using cached learntools-0.0.20-py3-none-any.whl.metadata (316 bytes)\n",
            "Collecting numpy (from learntools)\n",
            "  Downloading numpy-2.3.1-cp311-cp311-manylinux_2_28_x86_64.whl.metadata (62 kB)\n",
            "\u001b[2K     \u001b[90m━━━━━━━━━━━━━━━━━━━━━━━━━━━━━━━━━━━━━━━━\u001b[0m \u001b[32m62.1/62.1 kB\u001b[0m \u001b[31m4.4 MB/s\u001b[0m eta \u001b[36m0:00:00\u001b[0m\n",
            "\u001b[?25hUsing cached learntools-0.0.20-py3-none-any.whl (7.5 kB)\n",
            "Downloading numpy-2.3.1-cp311-cp311-manylinux_2_28_x86_64.whl (16.9 MB)\n",
            "\u001b[2K   \u001b[90m━━━━━━━━━━━━━━━━━━━━━━━━━━━━━━━━━━━━━━━━\u001b[0m \u001b[32m16.9/16.9 MB\u001b[0m \u001b[31m67.9 MB/s\u001b[0m eta \u001b[36m0:00:00\u001b[0m\n",
            "\u001b[?25hInstalling collected packages: numpy, learntools\n",
            "  Attempting uninstall: numpy\n",
            "    Found existing installation: numpy 2.0.2\n",
            "    Uninstalling numpy-2.0.2:\n",
            "      Successfully uninstalled numpy-2.0.2\n",
            "  Attempting uninstall: learntools\n",
            "    Found existing installation: learntools 0.0.20\n",
            "    Uninstalling learntools-0.0.20:\n",
            "      Successfully uninstalled learntools-0.0.20\n",
            "\u001b[31mERROR: pip's dependency resolver does not currently take into account all the packages that are installed. This behaviour is the source of the following dependency conflicts.\n",
            "tensorflow 2.18.0 requires numpy<2.1.0,>=1.26.0, but you have numpy 2.3.1 which is incompatible.\n",
            "numba 0.60.0 requires numpy<2.1,>=1.22, but you have numpy 2.3.1 which is incompatible.\n",
            "cupy-cuda12x 13.3.0 requires numpy<2.3,>=1.22, but you have numpy 2.3.1 which is incompatible.\u001b[0m\u001b[31m\n",
            "\u001b[0mSuccessfully installed learntools-0.0.20 numpy-2.3.1\n"
          ]
        },
        {
          "output_type": "display_data",
          "data": {
            "application/vnd.colab-display-data+json": {
              "pip_warning": {
                "packages": [
                  "learntools",
                  "numpy"
                ]
              },
              "id": "ed3da39ce9da4e22ae8e9c944b673797"
            }
          },
          "metadata": {}
        }
      ]
    },
    {
      "cell_type": "code",
      "source": [
        "import sys\n",
        "print(\"Python executable:\", sys.executable)\n",
        "print(\"Sys path:\", sys.path) # This will show Python's search paths for modules\n",
        "\n",
        "from learntools.core import binder\n",
        "import numpy as np\n",
        "\n",
        "binder.bind(globals())\n",
        "\n",
        "# If you still have issues, check if learntools_ex exists\n",
        "# from learntools_ex import *\n",
        "\n",
        "print(\"Setup Complete\")"
      ],
      "metadata": {
        "colab": {
          "base_uri": "https://localhost:8080/",
          "height": 439
        },
        "id": "55w9u70y0SHv",
        "outputId": "9de41792-1d98-4ac2-c5c9-1b1d4737ce4b"
      },
      "execution_count": 2,
      "outputs": [
        {
          "output_type": "stream",
          "name": "stdout",
          "text": [
            "Python executable: /usr/bin/python3\n",
            "Sys path: ['/content', '/env/python', '/usr/lib/python311.zip', '/usr/lib/python3.11', '/usr/lib/python3.11/lib-dynload', '', '/usr/local/lib/python3.11/dist-packages', '/usr/lib/python3/dist-packages', '/usr/local/lib/python3.11/dist-packages/IPython/extensions', '/usr/local/lib/python3.11/dist-packages/setuptools/_vendor', '/root/.ipython']\n"
          ]
        },
        {
          "output_type": "error",
          "ename": "ModuleNotFoundError",
          "evalue": "No module named 'learntools.core'",
          "traceback": [
            "\u001b[0;31m---------------------------------------------------------------------------\u001b[0m",
            "\u001b[0;31mModuleNotFoundError\u001b[0m                       Traceback (most recent call last)",
            "\u001b[0;32m/tmp/ipython-input-2-1563183280.py\u001b[0m in \u001b[0;36m<cell line: 0>\u001b[0;34m()\u001b[0m\n\u001b[1;32m      3\u001b[0m \u001b[0mprint\u001b[0m\u001b[0;34m(\u001b[0m\u001b[0;34m\"Sys path:\"\u001b[0m\u001b[0;34m,\u001b[0m \u001b[0msys\u001b[0m\u001b[0;34m.\u001b[0m\u001b[0mpath\u001b[0m\u001b[0;34m)\u001b[0m \u001b[0;31m# This will show Python's search paths for modules\u001b[0m\u001b[0;34m\u001b[0m\u001b[0;34m\u001b[0m\u001b[0m\n\u001b[1;32m      4\u001b[0m \u001b[0;34m\u001b[0m\u001b[0m\n\u001b[0;32m----> 5\u001b[0;31m \u001b[0;32mfrom\u001b[0m \u001b[0mlearntools\u001b[0m\u001b[0;34m.\u001b[0m\u001b[0mcore\u001b[0m \u001b[0;32mimport\u001b[0m \u001b[0mbinder\u001b[0m\u001b[0;34m\u001b[0m\u001b[0;34m\u001b[0m\u001b[0m\n\u001b[0m\u001b[1;32m      6\u001b[0m \u001b[0;32mimport\u001b[0m \u001b[0mnumpy\u001b[0m \u001b[0;32mas\u001b[0m \u001b[0mnp\u001b[0m\u001b[0;34m\u001b[0m\u001b[0;34m\u001b[0m\u001b[0m\n\u001b[1;32m      7\u001b[0m \u001b[0;34m\u001b[0m\u001b[0m\n",
            "\u001b[0;31mModuleNotFoundError\u001b[0m: No module named 'learntools.core'",
            "",
            "\u001b[0;31m---------------------------------------------------------------------------\u001b[0;32m\nNOTE: If your import is failing due to a missing package, you can\nmanually install dependencies using either !pip or !apt.\n\nTo view examples of installing some common dependencies, click the\n\"Open Examples\" button below.\n\u001b[0;31m---------------------------------------------------------------------------\u001b[0m\n"
          ],
          "errorDetails": {
            "actions": [
              {
                "action": "open_url",
                "actionText": "Open Examples",
                "url": "/notebooks/snippets/importing_libraries.ipynb"
              }
            ]
          }
        }
      ]
    },
    {
      "cell_type": "code",
      "execution_count": 3,
      "metadata": {
        "id": "hBbKhGbdiU8K",
        "colab": {
          "base_uri": "https://localhost:8080/",
          "height": 176
        },
        "outputId": "d032c84f-191c-48c9-e92a-35f266bda67e"
      },
      "outputs": [
        {
          "output_type": "error",
          "ename": "NameError",
          "evalue": "name 'q1' is not defined",
          "traceback": [
            "\u001b[0;31m---------------------------------------------------------------------------\u001b[0m",
            "\u001b[0;31mNameError\u001b[0m                                 Traceback (most recent call last)",
            "\u001b[0;32m/tmp/ipython-input-3-317938011.py\u001b[0m in \u001b[0;36m<cell line: 0>\u001b[0;34m()\u001b[0m\n\u001b[1;32m      7\u001b[0m \u001b[0;34m\u001b[0m\u001b[0m\n\u001b[1;32m      8\u001b[0m \u001b[0mq1_sol\u001b[0m \u001b[0;34m=\u001b[0m \u001b[0mquestion_1\u001b[0m\u001b[0;34m(\u001b[0m\u001b[0;34m)\u001b[0m\u001b[0;34m\u001b[0m\u001b[0;34m\u001b[0m\u001b[0m\n\u001b[0;32m----> 9\u001b[0;31m \u001b[0mq1\u001b[0m\u001b[0;34m.\u001b[0m\u001b[0mcheck\u001b[0m\u001b[0;34m(\u001b[0m\u001b[0;34m)\u001b[0m\u001b[0;34m\u001b[0m\u001b[0;34m\u001b[0m\u001b[0m\n\u001b[0m",
            "\u001b[0;31mNameError\u001b[0m: name 'q1' is not defined"
          ]
        }
      ],
      "source": [
        "import numpy as np\n",
        "\n",
        "def question_1():\n",
        "\n",
        "    arr = np.arange(5, 905, 10)\n",
        "    return arr\n",
        "\n",
        "q1_sol = question_1()\n",
        "q1.check()"
      ]
    },
    {
      "cell_type": "code",
      "source": [
        "import numpy as np\n",
        "\n",
        "def question_2():\n",
        "\n",
        "    python_range = range(5, 905, 10)\n",
        "    python_list = list(python_range)\n",
        "    arr = np.array(python_list)\n",
        "    return arr\n"
      ],
      "metadata": {
        "id": "NJ5KwJ4ojDa4"
      },
      "execution_count": 5,
      "outputs": []
    },
    {
      "cell_type": "code",
      "source": [
        "import numpy as np\n",
        "import string\n",
        "\n",
        "def question_3():\n",
        "\n",
        "    # string.ascii_uppercase provides a string 'ABCDEFGHIJKLMNOPQRSTUVWXYZ'\n",
        "    uppercase_letters_string = string.ascii_uppercase\n",
        "\n",
        "    # Convert the string to a list of individual characters\n",
        "    uppercase_letters_list = list(uppercase_letters_string)\n",
        "\n",
        "    # Create a NumPy array from the list\n",
        "    arr = np.array(uppercase_letters_list)\n",
        "    return arr"
      ],
      "metadata": {
        "id": "ogiGojmIjYbv"
      },
      "execution_count": 4,
      "outputs": []
    },
    {
      "cell_type": "code",
      "source": [
        "import numpy as np\n",
        "\n",
        "def question_4():\n",
        "\n",
        "    zeros_array = np.zeros(10)\n",
        "    ones_array = np.ones(6)\n",
        "    return zeros_array, ones_array"
      ],
      "metadata": {
        "id": "ivJGmdWHjh7f"
      },
      "execution_count": 6,
      "outputs": []
    },
    {
      "cell_type": "code",
      "source": [
        "import numpy as np\n",
        "\n",
        "def question_5(input_array):\n",
        "    input_array = np.array([[11, 22, 33], [44, 55, 66], [77, 88, 99]])\n",
        "    if input_array.ndim != 2:\n",
        "        print(\"Input array is not 2-dimensional.\")\n",
        "        return\n",
        "\n",
        "    if input_array.shape[1] < 3:\n",
        "        print(\"Input array does not have a third column.\")\n",
        "        return\n",
        "\n",
        "    print(input_array[:, 2])"
      ],
      "metadata": {
        "id": "wy35HujBjzjm"
      },
      "execution_count": 7,
      "outputs": []
    },
    {
      "cell_type": "code",
      "source": [
        "import numpy as np\n",
        "\n",
        "def question_6():\n",
        "\n",
        "    arr = np.zeros((3, 4), dtype=np.int64)\n",
        "    return arr"
      ],
      "metadata": {
        "id": "73xzv5OCkFtO"
      },
      "execution_count": 8,
      "outputs": []
    },
    {
      "cell_type": "code",
      "source": [
        "import numpy as np\n",
        "\n",
        "def question_7(input_array):\n",
        "    input_array = np.arange(7, 34, 1).reshape(9, 3)\n",
        "    if input_array.size % 3 != 0:\n",
        "        print(\"Warning: The array cannot be split into 3 exactly equal-sized sub-arrays.\")\n",
        "        return np.array_split(input_array, 3)\n",
        "    else:\n",
        "        return np.split(input_array, 3)"
      ],
      "metadata": {
        "id": "XBzK7HL2kPBm"
      },
      "execution_count": 9,
      "outputs": []
    },
    {
      "cell_type": "code",
      "source": [
        "import numpy as np\n",
        "\n",
        "def question_8(input_array):\n",
        "    input_array = np.arange(1, 13, 1).reshape(3, 4)\n",
        "\n",
        "    # The slicing [0:2, -2:] means:\n",
        "    # 0:2 -> rows from index 0 up to (but not including) index 2 (i.e., row 0 and row 1)\n",
        "    # -2: -> columns from the second to last up to the end (i.e., the last two columns)\n",
        "    result = input_array[0:2, -2:]\n",
        "    return result"
      ],
      "metadata": {
        "id": "F1Wt6KXNkprW"
      },
      "execution_count": 10,
      "outputs": []
    },
    {
      "cell_type": "code",
      "source": [
        "import numpy as np\n",
        "\n",
        "def question_9(input_array):\n",
        "\n",
        "    count = np.sum(input_array > 5)\n",
        "    return count"
      ],
      "metadata": {
        "id": "vPl7RSRrk9dl"
      },
      "execution_count": 11,
      "outputs": []
    },
    {
      "cell_type": "code",
      "source": [
        "import numpy as np\n",
        "\n",
        "def question_10(arr, new_column_data):\n",
        "\n",
        "    if arr.ndim < 2:\n",
        "        raise ValueError(\"Input array must be at least 2-dimensional.\")\n",
        "\n",
        "    # Ensure new_column_data is handled correctly for insertion as a single column\n",
        "    if new_column_data.ndim == 0:\n",
        "        new_column_to_insert = np.array([new_column_data])\n",
        "    elif new_column_data.ndim == 2:\n",
        "        if new_column_data.shape[0] == 1:\n",
        "            new_column_to_insert = new_column_data.flatten()\n",
        "        elif new_column_data.shape[1] == 1:\n",
        "            new_column_to_insert = new_column_data.flatten()\n",
        "        else:\n",
        "            raise ValueError(\"New column must be 1-dimensional or a 2-dimensional array with a single column (e.g., (N, 1) shape).\")\n",
        "    else: # new_column_data.ndim == 1 (already a 1D array)\n",
        "        new_column_to_insert = new_column_data\n",
        "\n",
        "\n",
        "    if arr.shape[0] != len(new_column_to_insert):\n",
        "        raise ValueError(f\"The number of rows in the array ({arr.shape[0]}) must match the length of the new column ({len(new_column_to_insert)}).\")\n",
        "\n",
        "    modified_arr = np.delete(arr, 1, axis=1)\n",
        "\n",
        "    final_arr = np.insert(modified_arr, 1, new_column_to_insert, axis=1)\n",
        "\n",
        "    return final_arr\n",
        "\n",
        "# Define the input arrays outside the function\n",
        "input_array = np.array([[34, 72, 33], [82, 22, 32], [59, 84, 10]])\n",
        "insert_data = np.array([[37, 37, 37]])\n",
        "\n",
        "result_array = question_10(input_array, insert_data)\n",
        "\n",
        "# Print the result\n",
        "print(result_array)\n"
      ],
      "metadata": {
        "colab": {
          "base_uri": "https://localhost:8080/"
        },
        "id": "g9BMPUnzlS99",
        "outputId": "25f18d4d-8718-48a9-d651-25bba36e1b4a"
      },
      "execution_count": 15,
      "outputs": [
        {
          "output_type": "stream",
          "name": "stdout",
          "text": [
            "[[34 37 33]\n",
            " [82 37 32]\n",
            " [59 37 10]]\n"
          ]
        }
      ]
    },
    {
      "cell_type": "code",
      "source": [
        "import numpy as np\n",
        "\n",
        "def question_11(input_array):\n",
        "\n",
        "    if input_array.ndim != 2:\n",
        "        raise ValueError(\"Input array must be 2-dimensional.\")\n",
        "    if input_array.shape[0] < 2:\n",
        "        return np.hstack((input_array, np.zeros((input_array.shape[0], 1))))\n",
        "\n",
        "\n",
        "    distances = [0.0]\n",
        "\n",
        "    for i in range(1, input_array.shape[0]):\n",
        "        point1 = input_array[i-1]\n",
        "        point2 = input_array[i]\n",
        "\n",
        "        # Euclidean distance formula\n",
        "        distance = np.sqrt(np.sum((point2 - point1)**2))\n",
        "        distances.append(distance)\n",
        "\n",
        "    distances_array = np.array(distances).reshape(-1, 1)\n",
        "\n",
        "    result_array = np.hstack((input_array, distances_array))\n",
        "\n",
        "    return result_array\n",
        "\n",
        "input_data = np.array([[1, 2], [4, 6], [7, 8], [10, 10]])\n",
        "\n",
        "output_array = question_11(input_data)\n",
        "\n",
        "print(output_array)"
      ],
      "metadata": {
        "colab": {
          "base_uri": "https://localhost:8080/"
        },
        "id": "LDNqoU2ll0-1",
        "outputId": "bc00d577-9bbd-4a81-fd92-700e2f176a72"
      },
      "execution_count": 17,
      "outputs": [
        {
          "output_type": "stream",
          "name": "stdout",
          "text": [
            "[[ 1.          2.          0.        ]\n",
            " [ 4.          6.          5.        ]\n",
            " [ 7.          8.          3.60555128]\n",
            " [10.         10.          3.60555128]]\n"
          ]
        }
      ]
    },
    {
      "cell_type": "code",
      "source": [
        "import numpy as np\n",
        "\n",
        "def question_12(input_array):\n",
        "\n",
        "    if input_array.size == 0:\n",
        "        return input_array\n",
        "\n",
        "    unique_rows = [input_array[0]]\n",
        "\n",
        "    for i in range(1, input_array.shape[0]):\n",
        "        if not np.array_equal(input_array[i], unique_rows[-1]):\n",
        "            unique_rows.append(input_array[i])\n",
        "\n",
        "    return np.array(unique_rows)\n",
        "\n",
        "input_data = np.array([[1, 1], [2, 1], [3, 3], [3, 3], [2, 1], [1, 1]])\n",
        "\n",
        "# Call the function\n",
        "output_array = question_12(input_data)\n",
        "\n",
        "print(output_array)"
      ],
      "metadata": {
        "colab": {
          "base_uri": "https://localhost:8080/"
        },
        "id": "rxfn7ZNKl9Xs",
        "outputId": "0398c443-ad83-437f-a131-c155db71cbf1"
      },
      "execution_count": 18,
      "outputs": [
        {
          "output_type": "stream",
          "name": "stdout",
          "text": [
            "[[1 1]\n",
            " [2 1]\n",
            " [3 3]\n",
            " [2 1]\n",
            " [1 1]]\n"
          ]
        }
      ]
    },
    {
      "cell_type": "code",
      "source": [
        "import numpy as np\n",
        "\n",
        "def question_13(input_array):\n",
        "\n",
        "    if input_array.ndim != 2:\n",
        "        raise ValueError(\"Input array must be 2-dimensional.\")\n",
        "    if input_array.shape[0] == 0:\n",
        "        return input_array # Return empty array if input is empty\n",
        "\n",
        "    column_means = np.mean(input_array, axis=0)\n",
        "\n",
        "    column_stds = np.std(input_array, axis=0)\n",
        "\n",
        "    safe_column_stds = np.where(column_stds == 0, 1, column_stds)\n",
        "\n",
        "    normalized_array = (input_array - column_means) / safe_column_stds\n",
        "\n",
        "    return normalized_array\n",
        "\n",
        "# Provided input array\n",
        "input_data = np.array([[10, 20, 30], [15, 24, 33], [8, 18, 29], [14, 22, 32]])\n",
        "\n",
        "output_array = question_13(input_data)\n",
        "\n",
        "print(output_array)"
      ],
      "metadata": {
        "colab": {
          "base_uri": "https://localhost:8080/"
        },
        "id": "tsb6AXmdm66E",
        "outputId": "4563472f-7b52-4a67-e7b1-de292717a8af"
      },
      "execution_count": 19,
      "outputs": [
        {
          "output_type": "stream",
          "name": "stdout",
          "text": [
            "[[-0.61159284 -0.4472136  -0.63245553]\n",
            " [ 1.13581527  1.34164079  1.26491106]\n",
            " [-1.31055608 -1.34164079 -1.26491106]\n",
            " [ 0.78633365  0.4472136   0.63245553]]\n"
          ]
        }
      ]
    },
    {
      "cell_type": "code",
      "source": [
        "import numpy as np\n",
        "\n",
        "def question_14(input_array):\n",
        "\n",
        "    if input_array.ndim != 2:\n",
        "        raise ValueError(\"Input array must be 2-dimensional.\")\n",
        "    if input_array.shape[0] == 0:\n",
        "        return input_array\n",
        "\n",
        "\n",
        "    column_means = np.mean(input_array, axis=0)\n",
        "\n",
        "    column_stds = np.std(input_array, axis=0)\n",
        "\n",
        "    safe_column_stds = np.where(column_stds == 0, 1, column_stds)\n",
        "\n",
        "    normalized_array = (input_array - column_means) / safe_column_stds\n",
        "\n",
        "    return normalized_array\n",
        "\n",
        "input_data = np.array([[10, 20, 30], [15, 24, 33], [8, 18, 29], [14, 22, 32]])\n",
        "\n",
        "output_array = question_14(input_data)\n",
        "\n",
        "print(output_array)"
      ],
      "metadata": {
        "colab": {
          "base_uri": "https://localhost:8080/"
        },
        "id": "6MhCvUlbnQ3M",
        "outputId": "b66d283d-d158-412c-f597-ed93e67f1d2b"
      },
      "execution_count": 20,
      "outputs": [
        {
          "output_type": "stream",
          "name": "stdout",
          "text": [
            "[[-0.61159284 -0.4472136  -0.63245553]\n",
            " [ 1.13581527  1.34164079  1.26491106]\n",
            " [-1.31055608 -1.34164079 -1.26491106]\n",
            " [ 0.78633365  0.4472136   0.63245553]]\n"
          ]
        }
      ]
    },
    {
      "cell_type": "code",
      "source": [
        "import numpy as np\n",
        "\n",
        "def question_15(input_array):\n",
        "\n",
        "    if input_array.dtype.kind not in 'USV':\n",
        "        raise ValueError(\"Input array must contain strings.\")\n",
        "\n",
        "    unique_chars_set = set()\n",
        "\n",
        "    for s in input_array:\n",
        "        for char in s:\n",
        "            unique_chars_set.add(char)\n",
        "\n",
        "    sorted_unique_chars = sorted(list(unique_chars_set))\n",
        "\n",
        "    return np.array(sorted_unique_chars)\n",
        "\n",
        "input_data = np.array([\"hello\", \"world\", \"numpy\", \"rocks\"])\n",
        "\n",
        "output_array = question_15(input_data)\n",
        "\n",
        "print(output_array)"
      ],
      "metadata": {
        "colab": {
          "base_uri": "https://localhost:8080/"
        },
        "id": "2U-U_ENonsWD",
        "outputId": "f7647201-1bdf-4479-b1b6-54e10e75b092"
      },
      "execution_count": 22,
      "outputs": [
        {
          "output_type": "stream",
          "name": "stdout",
          "text": [
            "['c' 'd' 'e' 'h' 'k' 'l' 'm' 'n' 'o' 'p' 'r' 's' 'u' 'w' 'y']\n"
          ]
        }
      ]
    },
    {
      "cell_type": "code",
      "source": [
        "import numpy as np\n",
        "\n",
        "def question_16(input_array):\n",
        "\n",
        "    unique_chars = np.unique(input_array)\n",
        "\n",
        "    char_to_index_map = {char: index for index, char in enumerate(unique_chars)}\n",
        "\n",
        "    return char_to_index_map\n",
        "\n",
        "input_data = np.array([\"a\", \"b\", \"c\", \"d\", \"a\", \"c\", \"e\"])\n",
        "\n",
        "output_dictionary = question_16(input_data)\n",
        "\n",
        "print(output_dictionary)"
      ],
      "metadata": {
        "colab": {
          "base_uri": "https://localhost:8080/"
        },
        "id": "6s7HdvROnz_r",
        "outputId": "29998f57-1f5c-422f-e6f3-a34bd1296ecc"
      },
      "execution_count": 23,
      "outputs": [
        {
          "output_type": "stream",
          "name": "stdout",
          "text": [
            "{np.str_('a'): 0, np.str_('b'): 1, np.str_('c'): 2, np.str_('d'): 3, np.str_('e'): 4}\n"
          ]
        }
      ]
    },
    {
      "cell_type": "code",
      "source": [
        "import numpy as np\n",
        "\n",
        "def question_17(list_of_traces):\n",
        "\n",
        "    if not list_of_traces:\n",
        "        return np.array([])\n",
        "\n",
        "    single_array = np.vstack(list_of_traces)\n",
        "\n",
        "    return single_array\n",
        "\n",
        "input_data = [np.array([[1, 2], [3, 4]]), np.array([[5, 6], [7, 8], [9, 10]])]\n",
        "\n",
        "output_array = question_17(input_data)\n",
        "\n",
        "print(output_array)"
      ],
      "metadata": {
        "colab": {
          "base_uri": "https://localhost:8080/"
        },
        "id": "RaqZuA3roIK6",
        "outputId": "1d09d136-cda5-4692-d345-7d386c6feddd"
      },
      "execution_count": 25,
      "outputs": [
        {
          "output_type": "stream",
          "name": "stdout",
          "text": [
            "[[ 1  2]\n",
            " [ 3  4]\n",
            " [ 5  6]\n",
            " [ 7  8]\n",
            " [ 9 10]]\n"
          ]
        }
      ]
    },
    {
      "cell_type": "code",
      "source": [
        "import numpy as np\n",
        "\n",
        "def question_18():\n",
        "\n",
        "    return np.array([1, 2, 3])"
      ],
      "metadata": {
        "id": "wrUYzmb5olXS"
      },
      "execution_count": 26,
      "outputs": []
    },
    {
      "cell_type": "code",
      "source": [
        "import numpy as np\n",
        "\n",
        "def question_19(input_array):\n",
        "\n",
        "    if input_array.size == 0:\n",
        "        return input_array # Return empty array if input is empty\n",
        "\n",
        "    nonzero_rows_mask = np.any(input_array != 0, axis=1)\n",
        "\n",
        "    extracted_array = input_array[nonzero_rows_mask]\n",
        "\n",
        "    return extracted_array\n",
        "\n",
        "input_data = np.array([[3, 4], [0, 0], [-2, 1]])\n",
        "\n",
        "output_array = question_19(input_data)\n",
        "\n",
        "print(output_array)\n",
        "\n",
        "input_all_zeros = np.array([[0, 0], [0, 0]])\n",
        "output_all_zeros = question_19(input_all_zeros)\n",
        "print(output_all_zeros)\n",
        "\n",
        "input_all_nonzero = np.array([[1, 2], [3, 4]])\n",
        "output_all_nonzero = question_19(input_all_nonzero)\n",
        "print(output_all_nonzero)"
      ],
      "metadata": {
        "colab": {
          "base_uri": "https://localhost:8080/"
        },
        "id": "GaesPejbo5fa",
        "outputId": "1a030628-7d35-486f-9bcc-a274d0deb5a3"
      },
      "execution_count": 29,
      "outputs": [
        {
          "output_type": "stream",
          "name": "stdout",
          "text": [
            "[[ 3  4]\n",
            " [-2  1]]\n",
            "[]\n",
            "[[1 2]\n",
            " [3 4]]\n"
          ]
        }
      ]
    },
    {
      "cell_type": "code",
      "source": [
        "import numpy as np\n",
        "\n",
        "def question_20():\n",
        "\n",
        "    return np.array([1, 2, 3])"
      ],
      "metadata": {
        "id": "kuk7KpbKpCAC"
      },
      "execution_count": 30,
      "outputs": []
    }
  ]
}