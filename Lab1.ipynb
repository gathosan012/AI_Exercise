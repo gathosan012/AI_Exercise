{
  "nbformat": 4,
  "nbformat_minor": 0,
  "metadata": {
    "colab": {
      "provenance": [],
      "authorship_tag": "ABX9TyPR/uC61tt6p8SMg8q4QSye",
      "include_colab_link": true
    },
    "kernelspec": {
      "name": "python3",
      "display_name": "Python 3"
    },
    "language_info": {
      "name": "python"
    }
  },
  "cells": [
    {
      "cell_type": "markdown",
      "metadata": {
        "id": "view-in-github",
        "colab_type": "text"
      },
      "source": [
        "<a href=\"https://colab.research.google.com/github/gathosan012/AI_Exercise/blob/main/Lab1.ipynb\" target=\"_parent\"><img src=\"https://colab.research.google.com/assets/colab-badge.svg\" alt=\"Open In Colab\"/></a>"
      ]
    },
    {
      "cell_type": "code",
      "execution_count": 3,
      "metadata": {
        "id": "hBbKhGbdiU8K"
      },
      "outputs": [],
      "source": [
        "import numpy as np\n",
        "\n",
        "def create_array():\n",
        "\n",
        "    arr = np.arange(5, 905, 10)\n",
        "    return arr"
      ]
    },
    {
      "cell_type": "code",
      "source": [
        "import numpy as np\n",
        "\n",
        "def create_array_from_range_list():\n",
        "\n",
        "    python_range = range(5, 905, 10)\n",
        "    python_list = list(python_range)\n",
        "    arr = np.array(python_list)\n",
        "    return arr\n"
      ],
      "metadata": {
        "id": "NJ5KwJ4ojDa4"
      },
      "execution_count": 6,
      "outputs": []
    },
    {
      "cell_type": "code",
      "source": [
        "import numpy as np\n",
        "import string\n",
        "\n",
        "def create_uppercase_array():\n",
        "\n",
        "    # string.ascii_uppercase provides a string 'ABCDEFGHIJKLMNOPQRSTUVWXYZ'\n",
        "    uppercase_letters_string = string.ascii_uppercase\n",
        "\n",
        "    # Convert the string to a list of individual characters\n",
        "    uppercase_letters_list = list(uppercase_letters_string)\n",
        "\n",
        "    # Create a NumPy array from the list\n",
        "    arr = np.array(uppercase_letters_list)\n",
        "    return arr"
      ],
      "metadata": {
        "id": "ogiGojmIjYbv"
      },
      "execution_count": 7,
      "outputs": []
    },
    {
      "cell_type": "code",
      "source": [
        "import numpy as np\n",
        "\n",
        "def create_zeros_and_ones_arrays():\n",
        "\n",
        "    zeros_array = np.zeros(10)\n",
        "    ones_array = np.ones(6)\n",
        "    return zeros_array, ones_array"
      ],
      "metadata": {
        "id": "ivJGmdWHjh7f"
      },
      "execution_count": 8,
      "outputs": []
    },
    {
      "cell_type": "code",
      "source": [
        "import numpy as np\n",
        "\n",
        "def print_third_column(input_array):\n",
        "    input_array = np.array([[11, 22, 33], [44, 55, 66], [77, 88, 99]])\n",
        "    if input_array.ndim != 2:\n",
        "        print(\"Input array is not 2-dimensional.\")\n",
        "        return\n",
        "\n",
        "    if input_array.shape[1] < 3:\n",
        "        print(\"Input array does not have a third column.\")\n",
        "        return\n",
        "\n",
        "    print(input_array[:, 2])"
      ],
      "metadata": {
        "id": "wy35HujBjzjm"
      },
      "execution_count": 9,
      "outputs": []
    },
    {
      "cell_type": "code",
      "source": [
        "import numpy as np\n",
        "\n",
        "def create_zeros_int64_array():\n",
        "\n",
        "    arr = np.zeros((3, 4), dtype=np.int64)\n",
        "    return arr"
      ],
      "metadata": {
        "id": "73xzv5OCkFtO"
      },
      "execution_count": 10,
      "outputs": []
    },
    {
      "cell_type": "code",
      "source": [
        "import numpy as np\n",
        "\n",
        "def split_array_into_three(input_array):\n",
        "    input_array = np.arange(7, 34, 1).reshape(9, 3)\n",
        "    if input_array.size % 3 != 0:\n",
        "        print(\"Warning: The array cannot be split into 3 exactly equal-sized sub-arrays.\")\n",
        "        return np.array_split(input_array, 3)\n",
        "    else:\n",
        "        return np.split(input_array, 3)"
      ],
      "metadata": {
        "id": "XBzK7HL2kPBm"
      },
      "execution_count": 12,
      "outputs": []
    },
    {
      "cell_type": "code",
      "source": [
        "import numpy as np\n",
        "\n",
        "def get_last_two_elements_from_first_two_rows(input_array):\n",
        "    input_array = np.arange(1, 13, 1).reshape(3, 4)\n",
        "\n",
        "    # The slicing [0:2, -2:] means:\n",
        "    # 0:2 -> rows from index 0 up to (but not including) index 2 (i.e., row 0 and row 1)\n",
        "    # -2: -> columns from the second to last up to the end (i.e., the last two columns)\n",
        "    result = input_array[0:2, -2:]\n",
        "    return result"
      ],
      "metadata": {
        "id": "F1Wt6KXNkprW"
      },
      "execution_count": 13,
      "outputs": []
    },
    {
      "cell_type": "code",
      "source": [
        "import numpy as np\n",
        "\n",
        "def count_elements_greater_than_five(input_array):\n",
        "\n",
        "    count = np.sum(input_array > 5)\n",
        "    return count"
      ],
      "metadata": {
        "id": "vPl7RSRrk9dl"
      },
      "execution_count": 14,
      "outputs": []
    },
    {
      "cell_type": "code",
      "source": [
        "import numpy as np\n",
        "\n",
        "def delete_and_insert_column(arr, new_column_data):\n",
        "\n",
        "    if arr.ndim < 2:\n",
        "        raise ValueError(\"Input array must be at least 2-dimensional.\")\n",
        "\n",
        "    # Ensure new_column_data is handled correctly for insertion as a single column\n",
        "    if new_column_data.ndim == 0:\n",
        "        new_column_to_insert = np.array([new_column_data])\n",
        "    elif new_column_data.ndim == 2:\n",
        "        if new_column_data.shape[0] == 1:\n",
        "            new_column_to_insert = new_column_data.flatten()\n",
        "        elif new_column_data.shape[1] == 1:\n",
        "            new_column_to_insert = new_column_data.flatten()\n",
        "        else:\n",
        "            raise ValueError(\"New column must be 1-dimensional or a 2-dimensional array with a single column (e.g., (N, 1) shape).\")\n",
        "    else: # new_column_data.ndim == 1 (already a 1D array)\n",
        "        new_column_to_insert = new_column_data\n",
        "\n",
        "\n",
        "    if arr.shape[0] != len(new_column_to_insert):\n",
        "        raise ValueError(f\"The number of rows in the array ({arr.shape[0]}) must match the length of the new column ({len(new_column_to_insert)}).\")\n",
        "\n",
        "    modified_arr = np.delete(arr, 1, axis=1)\n",
        "\n",
        "    final_arr = np.insert(modified_arr, 1, new_column_to_insert, axis=1)\n",
        "\n",
        "    return final_arr\n",
        "\n",
        "# Define the input arrays outside the function\n",
        "input_array = np.array([[34, 72, 33], [82, 22, 32], [59, 84, 10]])\n",
        "insert_data = np.array([[37, 37, 37]])\n",
        "\n",
        "result_array = delete_and_insert_column(input_array, insert_data)\n",
        "\n",
        "# Print the result\n",
        "print(result_array)\n"
      ],
      "metadata": {
        "colab": {
          "base_uri": "https://localhost:8080/"
        },
        "id": "g9BMPUnzlS99",
        "outputId": "a8daff4c-fd58-4d45-8c2d-950f4a9e4de8"
      },
      "execution_count": 21,
      "outputs": [
        {
          "output_type": "stream",
          "name": "stdout",
          "text": [
            "[[34 37 33]\n",
            " [82 37 32]\n",
            " [59 37 10]]\n"
          ]
        }
      ]
    },
    {
      "cell_type": "code",
      "source": [
        "import numpy as np\n",
        "\n",
        "def compute_euclidean_distance_and_append(input_array):\n",
        "\n",
        "    if input_array.ndim != 2:\n",
        "        raise ValueError(\"Input array must be 2-dimensional.\")\n",
        "    if input_array.shape[0] < 2:\n",
        "        return np.hstack((input_array, np.zeros((input_array.shape[0], 1))))\n",
        "\n",
        "\n",
        "    distances = [0.0]\n",
        "\n",
        "    for i in range(1, input_array.shape[0]):\n",
        "        point1 = input_array[i-1]\n",
        "        point2 = input_array[i]\n",
        "\n",
        "        # Euclidean distance formula\n",
        "        distance = np.sqrt(np.sum((point2 - point1)**2))\n",
        "        distances.append(distance)\n",
        "\n",
        "    distances_array = np.array(distances).reshape(-1, 1)\n",
        "\n",
        "    result_array = np.hstack((input_array, distances_array))\n",
        "\n",
        "    return result_array\n",
        "\n",
        "input_data = np.array([[1, 2], [4, 6], [7, 8], [10, 10]])\n",
        "\n",
        "output_array = compute_euclidean_distance_and_append(input_data)\n",
        "\n",
        "print(output_array)"
      ],
      "metadata": {
        "colab": {
          "base_uri": "https://localhost:8080/"
        },
        "id": "LDNqoU2ll0-1",
        "outputId": "e3b2ea5e-18cc-48e2-cce5-24b7aa536966"
      },
      "execution_count": 17,
      "outputs": [
        {
          "output_type": "stream",
          "name": "stdout",
          "text": [
            "[[ 1.          2.          0.        ]\n",
            " [ 4.          6.          5.        ]\n",
            " [ 7.          8.          3.60555128]\n",
            " [10.         10.          3.60555128]]\n"
          ]
        }
      ]
    },
    {
      "cell_type": "code",
      "source": [
        "import numpy as np\n",
        "\n",
        "def remove_consecutive_duplicates(input_array):\n",
        "\n",
        "    if input_array.size == 0:\n",
        "        return input_array\n",
        "\n",
        "    unique_rows = [input_array[0]]\n",
        "\n",
        "    for i in range(1, input_array.shape[0]):\n",
        "        if not np.array_equal(input_array[i], unique_rows[-1]):\n",
        "            unique_rows.append(input_array[i])\n",
        "\n",
        "    return np.array(unique_rows)\n",
        "\n",
        "input_data = np.array([[1, 1], [2, 1], [3, 3], [3, 3], [2, 1], [1, 1]])\n",
        "\n",
        "# Call the function\n",
        "output_array = remove_consecutive_duplicates(input_data)\n",
        "\n",
        "print(output_array)"
      ],
      "metadata": {
        "colab": {
          "base_uri": "https://localhost:8080/"
        },
        "id": "rxfn7ZNKl9Xs",
        "outputId": "8c83fbc6-9dad-44c5-f9f3-7d416535cd56"
      },
      "execution_count": 22,
      "outputs": [
        {
          "output_type": "stream",
          "name": "stdout",
          "text": [
            "[[1 1]\n",
            " [2 1]\n",
            " [3 3]\n",
            " [2 1]\n",
            " [1 1]]\n"
          ]
        }
      ]
    },
    {
      "cell_type": "code",
      "source": [
        "import numpy as np\n",
        "\n",
        "def normalize_strokes(input_array):\n",
        "\n",
        "    if input_array.ndim != 2:\n",
        "        raise ValueError(\"Input array must be 2-dimensional.\")\n",
        "    if input_array.shape[0] == 0:\n",
        "        return input_array # Return empty array if input is empty\n",
        "\n",
        "    column_means = np.mean(input_array, axis=0)\n",
        "\n",
        "    column_stds = np.std(input_array, axis=0)\n",
        "\n",
        "    safe_column_stds = np.where(column_stds == 0, 1, column_stds)\n",
        "\n",
        "    normalized_array = (input_array - column_means) / safe_column_stds\n",
        "\n",
        "    return normalized_array\n",
        "\n",
        "# Provided input array\n",
        "input_data = np.array([[10, 20, 30], [15, 24, 33], [8, 18, 29], [14, 22, 32]])\n",
        "\n",
        "output_array = normalize_strokes(input_data)\n",
        "\n",
        "print(output_array)"
      ],
      "metadata": {
        "colab": {
          "base_uri": "https://localhost:8080/"
        },
        "id": "tsb6AXmdm66E",
        "outputId": "8a8af56e-7ccc-4d5f-8315-8fa97c33206d"
      },
      "execution_count": 24,
      "outputs": [
        {
          "output_type": "stream",
          "name": "stdout",
          "text": [
            "[[-0.61159284 -0.4472136  -0.63245553]\n",
            " [ 1.13581527  1.34164079  1.26491106]\n",
            " [-1.31055608 -1.34164079 -1.26491106]\n",
            " [ 0.78633365  0.4472136   0.63245553]]\n"
          ]
        }
      ]
    },
    {
      "cell_type": "code",
      "source": [
        "import numpy as np\n",
        "\n",
        "def normalize_strokes(input_array):\n",
        "\n",
        "    if input_array.ndim != 2:\n",
        "        raise ValueError(\"Input array must be 2-dimensional.\")\n",
        "    if input_array.shape[0] == 0:\n",
        "        return input_array\n",
        "\n",
        "\n",
        "    column_means = np.mean(input_array, axis=0)\n",
        "\n",
        "    column_stds = np.std(input_array, axis=0)\n",
        "\n",
        "    safe_column_stds = np.where(column_stds == 0, 1, column_stds)\n",
        "\n",
        "    normalized_array = (input_array - column_means) / safe_column_stds\n",
        "\n",
        "    return normalized_array\n",
        "\n",
        "input_data = np.array([[10, 20, 30], [15, 24, 33], [8, 18, 29], [14, 22, 32]])\n",
        "\n",
        "output_array = normalize_strokes(input_data)\n",
        "\n",
        "print(output_array)"
      ],
      "metadata": {
        "colab": {
          "base_uri": "https://localhost:8080/"
        },
        "id": "6MhCvUlbnQ3M",
        "outputId": "1f7240f7-e158-4e37-b65a-2533e15733de"
      },
      "execution_count": 25,
      "outputs": [
        {
          "output_type": "stream",
          "name": "stdout",
          "text": [
            "[[-0.61159284 -0.4472136  -0.63245553]\n",
            " [ 1.13581527  1.34164079  1.26491106]\n",
            " [-1.31055608 -1.34164079 -1.26491106]\n",
            " [ 0.78633365  0.4472136   0.63245553]]\n"
          ]
        }
      ]
    },
    {
      "cell_type": "code",
      "source": [
        "import numpy as np\n",
        "\n",
        "def extract_unique_characters(input_array):\n",
        "\n",
        "    if input_array.dtype.kind not in 'USV':\n",
        "        raise ValueError(\"Input array must contain strings.\")\n",
        "\n",
        "    unique_chars_set = set()\n",
        "\n",
        "    for s in input_array:\n",
        "        for char in s:\n",
        "            unique_chars_set.add(char)\n",
        "\n",
        "    sorted_unique_chars = sorted(list(unique_chars_set))\n",
        "\n",
        "    return np.array(sorted_unique_chars)\n",
        "\n",
        "input_data = np.array([\"hello\", \"world\", \"numpy\", \"rocks\"])\n",
        "\n",
        "output_array = extract_unique_characters(input_data)\n",
        "\n",
        "print(output_array)"
      ],
      "metadata": {
        "colab": {
          "base_uri": "https://localhost:8080/"
        },
        "id": "2U-U_ENonsWD",
        "outputId": "50f87b81-a95d-45c3-e60d-58f974bf50d3"
      },
      "execution_count": 26,
      "outputs": [
        {
          "output_type": "stream",
          "name": "stdout",
          "text": [
            "['c' 'd' 'e' 'h' 'k' 'l' 'm' 'n' 'o' 'p' 'r' 's' 'u' 'w' 'y']\n"
          ]
        }
      ]
    },
    {
      "cell_type": "code",
      "source": [
        "import numpy as np\n",
        "\n",
        "def map_unique_chars_to_index(input_array):\n",
        "\n",
        "    unique_chars = np.unique(input_array)\n",
        "\n",
        "    char_to_index_map = {char: index for index, char in enumerate(unique_chars)}\n",
        "\n",
        "    return char_to_index_map\n",
        "\n",
        "input_data = np.array([\"a\", \"b\", \"c\", \"d\", \"a\", \"c\", \"e\"])\n",
        "\n",
        "output_dictionary = map_unique_chars_to_index(input_data)\n",
        "\n",
        "print(output_dictionary)"
      ],
      "metadata": {
        "colab": {
          "base_uri": "https://localhost:8080/"
        },
        "id": "6s7HdvROnz_r",
        "outputId": "e7a4202a-3837-4215-91f9-1031b1487e9a"
      },
      "execution_count": 27,
      "outputs": [
        {
          "output_type": "stream",
          "name": "stdout",
          "text": [
            "{np.str_('a'): 0, np.str_('b'): 1, np.str_('c'): 2, np.str_('d'): 3, np.str_('e'): 4}\n"
          ]
        }
      ]
    },
    {
      "cell_type": "code",
      "source": [
        "import numpy as np\n",
        "\n",
        "def convert_traces_to_single_array(list_of_traces):\n",
        "\n",
        "    if not list_of_traces:\n",
        "        return np.array([])\n",
        "\n",
        "    single_array = np.vstack(list_of_traces)\n",
        "\n",
        "    return single_array\n",
        "\n",
        "input_data = [np.array([[1, 2], [3, 4]]), np.array([[5, 6], [7, 8], [9, 10]])]\n",
        "\n",
        "output_array = convert_traces_to_single_array(input_data)\n",
        "\n",
        "print(output_array)"
      ],
      "metadata": {
        "colab": {
          "base_uri": "https://localhost:8080/"
        },
        "id": "RaqZuA3roIK6",
        "outputId": "008431f5-a940-46aa-9dd3-59931f5905e8"
      },
      "execution_count": 29,
      "outputs": [
        {
          "output_type": "stream",
          "name": "stdout",
          "text": [
            "[[ 1  2]\n",
            " [ 3  4]\n",
            " [ 5  6]\n",
            " [ 7  8]\n",
            " [ 9 10]]\n"
          ]
        }
      ]
    },
    {
      "cell_type": "code",
      "source": [
        "import numpy as np\n",
        "\n",
        "def return_simple_array():\n",
        "\n",
        "    return np.array([1, 2, 3])"
      ],
      "metadata": {
        "id": "wrUYzmb5olXS"
      },
      "execution_count": 30,
      "outputs": []
    },
    {
      "cell_type": "code",
      "source": [
        "import numpy as np\n",
        "\n",
        "def extract_nonzero_differences(input_array):\n",
        "\n",
        "    if input_array.size == 0:\n",
        "        return input_array # Return empty array if input is empty\n",
        "\n",
        "    nonzero_rows_mask = np.any(input_array != 0, axis=1)\n",
        "\n",
        "    extracted_array = input_array[nonzero_rows_mask]\n",
        "\n",
        "    return extracted_array\n",
        "\n",
        "input_data = np.array([[3, 4], [0, 0], [-2, 1]])\n",
        "\n",
        "output_array = extract_nonzero_differences(input_data)\n",
        "\n",
        "print(output_array)\n",
        "\n",
        "input_all_zeros = np.array([[0, 0], [0, 0]])\n",
        "output_all_zeros = extract_nonzero_differences(input_all_zeros)\n",
        "print(output_all_zeros)\n",
        "\n",
        "input_all_nonzero = np.array([[1, 2], [3, 4]])\n",
        "output_all_nonzero = extract_nonzero_differences(input_all_nonzero)\n",
        "print(output_all_nonzero)"
      ],
      "metadata": {
        "colab": {
          "base_uri": "https://localhost:8080/"
        },
        "id": "GaesPejbo5fa",
        "outputId": "ac0d01a6-9c54-437b-beba-fd21609083c7"
      },
      "execution_count": 31,
      "outputs": [
        {
          "output_type": "stream",
          "name": "stdout",
          "text": [
            "[[ 3  4]\n",
            " [-2  1]]\n",
            "[]\n",
            "[[1 2]\n",
            " [3 4]]\n"
          ]
        }
      ]
    },
    {
      "cell_type": "code",
      "source": [
        "import numpy as np\n",
        "\n",
        "def return_simple_array():\n",
        "\n",
        "    return np.array([1, 2, 3])"
      ],
      "metadata": {
        "id": "kuk7KpbKpCAC"
      },
      "execution_count": 32,
      "outputs": []
    }
  ]
}